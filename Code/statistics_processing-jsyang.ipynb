{
 "cells": [
  {
   "cell_type": "markdown",
   "metadata": {},
   "source": [
    "### Correlation"
   ]
  },
  {
   "cell_type": "code",
   "execution_count": null,
   "metadata": {},
   "outputs": [],
   "source": [
    "import pandas as pd\n",
    "import matplotlib.pyplot as plt\n",
    "import seaborn as sns\n",
    "\n",
    "# set data as DataFrame\n",
    "train_df_check_corr = pd.read_csv'[path to train data]', index_col=0)\n",
    "\n",
    "# calculate correlation for all features\n",
    "train_df_tocheck_corr_ = train_df_check_corr.corr(method='spearman')\n",
    "train_df_tocheck_corr_ = train_df_check_corr.corr(method=\"spearman\").abs()\n",
    "\n",
    "# plt correlation matrix as heatmap\n",
    "plt.figure(figsize=(20, 20))\n",
    "sns.heatmap(train_df_tocheck_corr_, cmap='coolwarm', square=True, center=0)\n",
    "\n",
    "# save correlation matrix as csv\n",
    "train_df_tocheck_corr_.to_csv('train_df_checked_corr/csv', index=False)"
   ]
  },
  {
   "cell_type": "markdown",
   "metadata": {},
   "source": [
    "### VIF (Variance Inflation Factor)"
   ]
  },
  {
   "cell_type": "code",
   "execution_count": null,
   "metadata": {},
   "outputs": [],
   "source": [
    "import pandas as pd\n",
    "import pandas as pd\n",
    "from statsmodels.stats.outliers_influence import variance_inflation_factor\n",
    "\n",
    "# to see the entire dataframe in the code block, run the following line \n",
    "# pd.set_options('display.max_rows', None)\n",
    "# pd.set_options('display.max_cols', None)\n",
    "\n",
    "train_df = pd.read_csv('[path to train data', index_col=0)\n",
    "\n",
    "\n",
    "vif = pd.DataFrame()\n",
    "vif['VIF Factor'] = [variance_inflation_factor(train_df.values, i) for i in range(train_df.shape[1])]\n",
    "vif['features'] = train_df.columns\n",
    "vif = vif.sort_values(\"VIF Factor\").reset_index(drop=True)\n",
    "vif\n",
    "\n",
    "# save vif features as csv\n",
    "vif.to_csv('vif_all_features.csv', index=False)\n"
   ]
  },
  {
   "cell_type": "markdown",
   "metadata": {},
   "source": [
    "### Reverse negative questions among Q1~Q26"
   ]
  },
  {
   "cell_type": "code",
   "execution_count": null,
   "metadata": {},
   "outputs": [],
   "source": [
    "import pandas as pd\n",
    "\n",
    "train_df = pd.read_csv('[path to train data', index_col=0)\n",
    "\n",
    "# define the names of columns to reverse\n",
    "col_list = ['Q3', 'Q4', 'Q7', 'Q10', 'Q11', 'Q16', 'Q17', 'Q18']\n",
    "\n",
    "for col in col_list:\n",
    "    train_df[col] = 6 - train_df[col]"
   ]
  }
 ],
 "metadata": {
  "kernelspec": {
   "display_name": "Python 3.8.9 64-bit",
   "language": "python",
   "name": "python3"
  },
  "language_info": {
   "name": "python",
   "version": "3.8.9"
  },
  "orig_nbformat": 4,
  "vscode": {
   "interpreter": {
    "hash": "31f2aee4e71d21fbe5cf8b01ff0e069b9275f58929596ceb00d14d90e3e16cd6"
   }
  }
 },
 "nbformat": 4,
 "nbformat_minor": 2
}
