{
 "cells": [
  {
   "cell_type": "markdown",
   "metadata": {},
   "source": [
    "- value: 0.8558211379019417   \n",
    "parameters: {'max_depth': 10, 'learning_rate': 0.11423799062437275, 'n_estimators': 6900, 'colsample_bytree': 0.7390924842332742, 'colsample_bylevel': 0.6940109759294105, 'colsample_bynode': 0.5496585400738032, 'reg_lambda': 0.9713492867033704, 'reg_alpha': 0.8147232205798981, 'subsample': 0.85, 'min_child_weight': 5, 'gamma': 0.16280391709890213}\n",
    "\n",
    "- value: 0.8765662376664448   \n",
    "parameters: {'max_depth': 10, 'learning_rate': 0.025929426661789656, 'n_estimators': 6600, 'colsample_bytree': 0.7155456762839627, 'colsample_bylevel': 0.6123744502366096, 'colsample_bynode': 0.8016499020606728, 'reg_lambda': 0.0935399629775155, 'reg_alpha': 0.018771877229402035, 'subsample': 0.8, 'min_child_weight': 4, 'gamma': 0.6677845409584143}"
   ]
  },
  {
   "cell_type": "markdown",
   "metadata": {},
   "source": [
    "- value: 0.8809480046411619   \n",
    "parameters: {\n",
    "    'max_depth': 10, \n",
    "    'learning_rate': 0.012741996496385181, \n",
    "    'n_estimators': 5400, \n",
    "    'colsample_bytree': 0.9880877655092972, \n",
    "    'colsample_bylevel': 0.9031528391808196, \n",
    "    'colsample_bynode': 0.7902734303945597, \n",
    "    'reg_lambda': 0.11153956880519215, \n",
    "    'reg_alpha': 0.07534875097086073, \n",
    "    'subsample': 0.6, \n",
    "    'min_child_weight': 2, \n",
    "    'gamma': 0.12107571324278796\n",
    "    }\n",
    "\n",
    "- value: 0.9114159974407675   \n",
    "parameters: {'max_depth': 10, 'learning_rate': 0.00976136092905561, 'n_estimators': 9400, 'colsample_bytree': 0.8543754171382677, 'colsample_bylevel': 0.9629904399168124, 'colsample_bynode': 0.8248938119302215, 'reg_lambda': 0.19485954543028522, 'reg_alpha': 0.06999603044690161, 'subsample': 0.75, 'min_child_weight': 2, 'gamma': 0.11753760508543808}\n",
    "\n",
    "- value: 0.8814159974407675   \n",
    "parameters: {'max_depth': 10, 'learning_rate': 0.00976136092905561, 'n_estimators': 9400, 'colsample_bytree': 0.8543754171382677, 'colsample_bylevel': 0.9629904399168124, 'colsample_bynode': 0.8248938119302215, 'reg_lambda': 0.19485954543028522, 'reg_alpha': 0.06999603044690161, 'subsample': 0.75, 'min_child_weight': 2, 'gamma': 0.11753760508543808}   \n",
    "\n",
    "- value: 0.881397818262627   \n",
    "parameters: {'max_depth': 10, 'learning_rate': 0.009903359301814088, 'n_estimators': 9500, 'colsample_bytree': 0.8493670163233117, 'colsample_bylevel': 0.9733469085820471, 'colsample_bynode': 0.8276371358057477, 'reg_lambda': 0.15303428758834792, 'reg_alpha': 0.03856600642577066, 'subsample': 0.75, 'min_child_weight': 2, 'gamma': 0.122141088556839}\n",
    "\n",
    "- value: 0.881261932916239   \n",
    "parameters: {'max_depth': 10, 'learning_rate': 0.00899035093024148, 'n_estimators': 9600, 'colsample_bytree': 0.8619023433607153, 'colsample_bylevel': 0.9622839688757316, 'colsample_bynode': 0.925681918873902, 'reg_lambda': 0.1514668508368048, 'reg_alpha': 0.0851877916826773, 'subsample': 0.8, 'min_child_weight': 2, 'gamma': 0.10867035994433574}\n",
    "\n",
    "- value: 0.8815593103738342   \n",
    "parameters: {'max_depth': 10, 'learning_rate': 0.007999290430823569, 'n_estimators': 9700, 'colsample_bytree': 0.8797893602678252, 'colsample_bylevel': 0.9586809866249725, 'colsample_bynode': 0.9105635718971453, 'reg_lambda': 0.10723644583977461, 'reg_alpha': 0.0964520252289181, 'subsample': 0.75, 'min_child_weight': 2, 'gamma': 0.10968691976147232}"
   ]
  },
  {
   "cell_type": "markdown",
   "metadata": {},
   "source": [
    "- 구동 환경\n",
    "\n",
    "## Main Server\n",
    "- CPU : AMD EPYC 7763 64-Core Processor * 2\n",
    "- GPU : NVIDIA RTX A6000 48GB * 4\n",
    "- RAM : 1024 GB\n",
    "- OS : Ubuntu 20.04.4 LTS (Focal Fossa)\n",
    "\n",
    "\n",
    "## NIPA Server\n",
    "- CPU : Intel(R) Xeon(R) Gold 5220 CPU @ 2.20GHz\n",
    "- GPU : NVIDIA Tesla V100 32GB * 3\n",
    "- RAM : 256GB\n",
    "- OS : Ubuntu 18.04.6 (Bionic Beaver) \n",
    "\n",
    "\n",
    "## Lab Computer\n",
    "- CPU : Intel(R) Core(TM) i7-9700 CPU @ 3.00GHz\n",
    "- GPU : NVIDIA RTX 2070 Super 8GB * 1\n",
    "- RAM : 32GB\n",
    "- OS : Windwos 10 Pro 21H2\n",
    "\n",
    "\n",
    " "
   ]
  }
 ],
 "metadata": {
  "kernelspec": {
   "display_name": "Python 3.9.6 64-bit",
   "language": "python",
   "name": "python3"
  },
  "language_info": {
   "codemirror_mode": {
    "name": "ipython",
    "version": 3
   },
   "file_extension": ".py",
   "mimetype": "text/x-python",
   "name": "python",
   "nbconvert_exporter": "python",
   "pygments_lexer": "ipython3",
   "version": "3.9.6"
  },
  "orig_nbformat": 4,
  "vscode": {
   "interpreter": {
    "hash": "ff39e70442f2d0126277fcec7d80f317f699f02315da4006ca6fc3d10fc49ffe"
   }
  }
 },
 "nbformat": 4,
 "nbformat_minor": 2
}
