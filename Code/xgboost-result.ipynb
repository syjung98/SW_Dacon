{
 "cells": [
  {
   "cell_type": "markdown",
   "metadata": {},
   "source": [
    "- value: 0.8809480046411619   <br>\n",
    "parameters: {\n",
    "    'max_depth': 10, \n",
    "    'learning_rate': 0.012741996496385181, \n",
    "    'n_estimators': 5400, \n",
    "    'colsample_bytree': 0.9880877655092972, \n",
    "    'colsample_bylevel': 0.9031528391808196, \n",
    "    'colsample_bynode': 0.7902734303945597, \n",
    "    'reg_lambda': 0.11153956880519215, \n",
    "    'reg_alpha': 0.07534875097086073, \n",
    "    'subsample': 0.6, \n",
    "    'min_child_weight': 2, \n",
    "    'gamma': 0.12107571324278796\n",
    "    }"
   ]
  },
  {
   "cell_type": "markdown",
   "metadata": {},
   "source": [
    "- value: 9114159974407675   \n",
    "parameters: {'max_depth': 10, 'learning_rate': 0.00976136092905561, 'n_estimators': 9400, 'colsample_bytree': 0.8543754171382677, 'colsample_bylevel': 0.9629904399168124, 'colsample_bynode': 0.8248938119302215, 'reg_lambda': 0.19485954543028522, 'reg_alpha': 0.06999603044690161, 'subsample': 0.75, 'min_child_weight': 2, 'gamma': 0.11753760508543808}"
   ]
  },
  {
   "cell_type": "markdown",
   "metadata": {},
   "source": [
    "- 구동 환경\n",
    "\n",
    "## Main Server\n",
    "- CPU : AMD EPYC 7763 64-Core Processor * 2\n",
    "- GPU : NVIDIA RTX A6000 48GB * 4\n",
    "- RAM : 1024 GB\n",
    "- OS : Ubuntu 20.04.4 LTS (Focal Fossa)\n",
    "\n",
    "\n",
    "## NIPA Server\n",
    "- CPU : Intel(R) Xeon(R) Gold 5220 CPU @ 2.20GHz\n",
    "- GPU : NVIDIA Tesla V100 32GB * 3\n",
    "- RAM : 256GB\n",
    "- OS : Ubuntu 18.04.6 (Bionic Beaver) \n",
    "\n",
    "\n",
    "## Lab Computer\n",
    "- CPU : Intel(R) Core(TM) i7-9700 CPU @ 3.00GHz\n",
    "- GPU : NVIDIA RTX 2070 Super 8GB * 1\n",
    "- RAM : 32GB\n",
    "- OS : Windwos 10 Pro 21H2\n",
    "\n",
    "\n",
    " "
   ]
  }
 ],
 "metadata": {
  "kernelspec": {
   "display_name": "Python 3.9.6 64-bit",
   "language": "python",
   "name": "python3"
  },
  "language_info": {
   "name": "python",
   "version": "3.9.6"
  },
  "orig_nbformat": 4,
  "vscode": {
   "interpreter": {
    "hash": "ff39e70442f2d0126277fcec7d80f317f699f02315da4006ca6fc3d10fc49ffe"
   }
  }
 },
 "nbformat": 4,
 "nbformat_minor": 2
}
