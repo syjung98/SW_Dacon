{
 "cells": [
  {
   "cell_type": "markdown",
   "metadata": {},
   "source": [
    "- value: 0.8809480046411619   <br>\n",
    "parameters: {\n",
    "    'max_depth': 10, \n",
    "    'learning_rate': 0.012741996496385181, \n",
    "    'n_estimators': 5400, \n",
    "    'colsample_bytree': 0.9880877655092972, \n",
    "    'colsample_bylevel': 0.9031528391808196, \n",
    "    'colsample_bynode': 0.7902734303945597, \n",
    "    'reg_lambda': 0.11153956880519215, \n",
    "    'reg_alpha': 0.07534875097086073, \n",
    "    'subsample': 0.6, \n",
    "    'min_child_weight': 2, \n",
    "    'gamma': 0.12107571324278796\n",
    "    }"
   ]
  }
 ],
 "metadata": {
  "language_info": {
   "name": "python"
  },
  "orig_nbformat": 4
 },
 "nbformat": 4,
 "nbformat_minor": 2
}
